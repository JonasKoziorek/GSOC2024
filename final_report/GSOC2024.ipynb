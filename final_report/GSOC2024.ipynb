{
 "cells": [
  {
   "cell_type": "markdown",
   "id": "9e43e957-d479-4d59-b05c-bede373bcbee",
   "metadata": {},
   "source": [
    "# GSOC 2024\n",
    "## Jonas Koziorek\n",
    "\n",
    "* **Organization**: The Julia Language (https://julialang.org/)\n",
    "* **Mentor**: George Datseris (https://github.com/Datseris)\n",
    "\n",
    "# Project Goals\n",
    "\n",
    "The primary objective of this project was to develop a unified interface for periodic orbit detection algorithms. These algorithms are essential tools in the study of dynamical systems, particularly for identifying recurring trajectories in systems that exhibit complex or chaotic behavior. While several algorithms already existed in Julia packages such as DynamicalSystems.jl and BifurcationKit.jl, they lacked a cohesive structure and synchronization. My task involved not only unifying these algorithms under a common interface but also implementing new ones based on recent advancements in the field.\n",
    "Additionally, the project aimed to bridge the gap between DynamicalSystems.jl and BifurcationKit.jl, offering users a more unified experience.\n",
    "\n",
    "# My contribution\n",
    "\n",
    "In the beginning we decided that all the new code should go into a new Julia package [**PeriodicOrbits.jl**](https://github.com/JuliaDynamics/PeriodicOrbits.jl) which falls under the [**JuliaDynamics** ecosystem](https://github.com/JuliaDynamics). In the first half of the program I devised a public a public interface to which all the detection algorithms should follow. In the second half I focused on developing new detection algorithms and writing documentation.\n",
    "\n",
    "## Public Interface\n",
    "\n",
    "The public interface encompasses these features:\n",
    "\n",
    "1. Custom type for periodic orbits\n",
    "2. Custom type for initial guesses which are required in the detection algorithms\n",
    "3. Abstract supertype for all the detection algorithms\n",
    "4. Function which computes minimal period of the periodic orbit\n",
    "5. Function that evaluates local stability properties of the periodic orbit\n",
    "6. Function that computes distance between two periodic orbits\n",
    "7. Function that finds unique periodic orbits in a list of periodic orbits\n",
    "\n",
    "All the features work for both discrete-time and continuous-time dynamical systems.\n",
    "\n",
    "## Implemented Algorithms\n",
    "\n",
    "For discrete-time dynamical systems there are two options - Schmelcher & Diakonos algorithm or Davidchack & Lai algorithm.\n",
    "For continuous-time dynamical systems there are two options - Optimized Shooting algorithm or discrete-time algorithms in combination with Poincaré map.\n",
    "\n",
    "## My Pull Requests\n",
    "\n",
    "1. [PR #2](https://github.com/JuliaDynamics/PeriodicOrbits.jl/pull/2)\n",
    "2. [PR #3](https://github.com/JuliaDynamics/PeriodicOrbits.jl/pull/3)\n",
    "3. [PR #5](https://github.com/JuliaDynamics/PeriodicOrbits.jl/pull/5)\n",
    "4. [PR #6](https://github.com/JuliaDynamics/PeriodicOrbits.jl/pull/6)\n",
    "5. [PR #7](https://github.com/JuliaDynamics/PeriodicOrbits.jl/pull/7)\n",
    "6. [PR #15](https://github.com/JuliaDynamics/PeriodicOrbits.jl/pull/15)\n",
    "7. [PR #211](https://github.com/JuliaDynamics/DynamicalSystemsBase.jl/pull/211)\n",
    "\n",
    "\n",
    "# Current State\n",
    "\n",
    "The public interface is finished together. Two previous detection algorithms that were in ChaosTools.jl were ported to PeriodicOrbits.jl. A new detection algorithm aimed for continuous-time dynamical system was added. All of the current work is backed with tests and documentation.\n",
    "\n",
    "# What is left to do\n",
    "\n",
    "**Integration with BifurcationKit.jl**: Strengthening the connection between PeriodicOrbits.jl and other libraries such as BifurcationKit.jl would enhance the flexibility and applicability of the package.\n",
    "\n",
    "**Further Algorithm Development**: While the current selection is functional, there is potential to incorporate more sophisticated methods. For instance, I started implementing the [**Fictitious time integration method**](https://www.sciencedirect.com/science/article/pii/S0020746223000409) but could not complete it within the program's timeframe. Continuing this work would broaden the range of tools available to users.\n",
    "\n",
    "\n",
    "# Challenges\n",
    "\n",
    "Two algorithms I initially explored turned out to be unsuitable:\n",
    "\n",
    "1. [**Numerical detection of unstable periodic orbits in continuous-time dynamical systems with chaotic behaviors**](https://npg.copernicus.org/articles/14/615/2007/) - I implemented this algorithm but I couldn't make it work correctly. After some time I dropped my efforts.\n",
    "2. [**Determination of Unstable Limit Cycles in Chaotic Systems by the Method of Unrestricted Harmonic Balance**](https://www.degruyter.com/document/doi/10.1515/zna-1991-0605/html) - This method required extensive manual intervention, making it impractical for automation in a general-use package.\n",
    "\n",
    "# What I learned\n",
    "\n",
    "Throughout this project, I gained substantial experience in working with GitHub and the open-source development process, particularly how to structure contributions, manage pull requests, and use CI for automated testing and documentation deployment. I deepened my understanding of numerical methods in dynamical systems and became more familiar with the JuliaDynamics ecosystem. Working through scientific papers and translating algorithms into practical code sharpened both my research and implementation skills."
   ]
  },
  {
   "cell_type": "markdown",
   "id": "5c78c5d5-6187-4c16-aa29-72b311fac179",
   "metadata": {},
   "source": [
    "# Code Showcase\n",
    "\n",
    "Let's attempt to detect a periodic orbit of the Lorenz system. First, we define the Lorenz system itself."
   ]
  },
  {
   "cell_type": "code",
   "execution_count": null,
   "id": "be5a0763-4afe-4982-9f55-7b63303a8980",
   "metadata": {},
   "outputs": [
    {
     "name": "stderr",
     "output_type": "stream",
     "text": [
      "\u001b[32m\u001b[1m  Activating\u001b[22m\u001b[39m project at `~/gsoc/PeriodicOrbits.jl`\n",
      "\u001b[33m\u001b[1m┌ \u001b[22m\u001b[39m\u001b[33m\u001b[1mWarning: \u001b[22m\u001b[39mThe project dependencies or compat requirements have changed since the manifest was last resolved.\n",
      "\u001b[33m\u001b[1m│ \u001b[22m\u001b[39mIt is recommended to `Pkg.resolve()` or consider `Pkg.update()` if necessary.\n",
      "\u001b[33m\u001b[1m└ \u001b[22m\u001b[39m\u001b[90m@ Pkg.API ~/.julia/juliaup/julia-1.10.5+0.x64.linux.gnu/share/julia/stdlib/v1.10/Pkg/src/API.jl:1848\u001b[39m\n",
      "\u001b[36m\u001b[1m[ \u001b[22m\u001b[39m\u001b[36m\u001b[1mInfo: \u001b[22m\u001b[39mPrecompiling PeriodicOrbits [41be5fce-5647-450b-ae37-a6739b881a1c]\n",
      "WARNING: could not import OrdinaryDiffEqCore.has_lazy_interpolation into OrdinaryDiffEqLowOrderRK\n"
     ]
    }
   ],
   "source": [
    "import Pkg\n",
    "Pkg.activate(\"/home/jonas/gsoc/PeriodicOrbits.jl\") # here comes location of local PeriodicOrbits.jl repository\n",
    "\n",
    "using PeriodicOrbits\n",
    "\n",
    "function lorenz(u0=[0.0, 10.0, 0.0]; σ = 10.0, ρ = 28.0, β = 8/3)\n",
    "    return CoupledODEs(lorenz_rule, u0, [σ, ρ, β])\n",
    "end\n",
    "\n",
    "@inbounds function lorenz_rule(u, p, t)\n",
    "    du1 = p[1] * (u[2] - u[1])\n",
    "    du2 = u[1] * (p[2] - u[3]) - u[2]\n",
    "    du3 = u[1] * u[2] - p[3] * u[3]\n",
    "    return SVector{3}(du1, du2, du3)\n",
    "end\n",
    "\n",
    "ds = lorenz()"
   ]
  },
  {
   "cell_type": "markdown",
   "id": "dee6a266-1735-4902-95a4-e02f720a22ce",
   "metadata": {},
   "source": [
    "Next, we give an initial guess of the location of the periodic orbit and its period."
   ]
  },
  {
   "cell_type": "code",
   "execution_count": null,
   "id": "ccb766f2-68e8-4c23-8e7e-0380d70fc14b",
   "metadata": {},
   "outputs": [],
   "source": [
    "u0_guess = SVector(3.5, 3.0, 0.0)\n",
    "T_guess = 5.2\n",
    "ig = InitialGuess(u0_guess, T_guess) "
   ]
  },
  {
   "cell_type": "markdown",
   "id": "4718003e-8fc1-45a1-a43a-89c6d36d9058",
   "metadata": {},
   "source": [
    "Then, we pick an appropriate algorithm that will detect the periodic orbit. In this case, we can use any algorithm intended for continuous-time dynamical systems. We choose the Optimized Shooting algorithm."
   ]
  },
  {
   "cell_type": "code",
   "execution_count": null,
   "id": "390cd803-9d0a-4c33-97a8-0a5273856d55",
   "metadata": {},
   "outputs": [],
   "source": [
    "alg = OptimizedShooting(Δt = 0.01, n = 3)"
   ]
  },
  {
   "cell_type": "markdown",
   "id": "a1b1d420-2e46-459f-953a-66dcfb1fcc6d",
   "metadata": {},
   "source": [
    "Finally, we combine all the pieces to find the periodic orbit."
   ]
  },
  {
   "cell_type": "code",
   "execution_count": null,
   "id": "b5556b55-1d2b-4efe-95e0-1239466e4c30",
   "metadata": {},
   "outputs": [],
   "source": [
    "po = periodic_orbit(ds, alg, ig)\n",
    "po"
   ]
  },
  {
   "cell_type": "markdown",
   "id": "46743e6d-48c3-4657-80a0-566f088e3c4e",
   "metadata": {},
   "source": [
    "The closed curve of the periodic orbit can be visualized using a plotting library such as Makie."
   ]
  },
  {
   "cell_type": "code",
   "execution_count": null,
   "id": "6a0294e0-6312-47c3-bcba-c81c45f2e37f",
   "metadata": {},
   "outputs": [],
   "source": [
    "using CairoMakie\n",
    "\n",
    "u0 = po.points[1]\n",
    "T = po.T\n",
    "traj, t = trajectory(ds, T, u0; Dt = 0.01)\n",
    "\n",
    "fig = Figure()\n",
    "ax = Axis3(fig[1, 1], azimuth = 0.6pi, elevation = 0.1pi)\n",
    "lines!(ax, traj[:, 1], traj[:, 2], traj[:, 3], color = :blue, linewidth = 1.7)\n",
    "scatter!(ax, u0)\n",
    "fig"
   ]
  },
  {
   "cell_type": "markdown",
   "id": "5a2084a7-1af8-4f6f-ad91-71a69b6b2a22",
   "metadata": {},
   "source": [
    "To ensure that the detected period is minimal, i.e., it is not a multiple of the minimal period, we can use the minimal_period function."
   ]
  },
  {
   "cell_type": "code",
   "execution_count": null,
   "id": "aa805a01-0e4d-46e4-8498-fc771f8e2639",
   "metadata": {},
   "outputs": [],
   "source": [
    "minT_po = minimal_period(ds, po)\n",
    "minT_po"
   ]
  },
  {
   "cell_type": "markdown",
   "id": "60119f06-9441-4df1-abd1-4b9e39ec0d85",
   "metadata": {},
   "source": [
    "To check whether two periodic orbits are equivalent up to some tolerance, use the poequal function."
   ]
  },
  {
   "cell_type": "code",
   "execution_count": null,
   "id": "9f52567c-bb39-4e3d-bcd0-d920b867e673",
   "metadata": {},
   "outputs": [],
   "source": [
    "equal = poequal(po, minT_po; dthres = 1e-3, Tthres = 1e-3)\n",
    "\"Detected periodic orbit had minimal period: $(equal)\""
   ]
  },
  {
   "cell_type": "markdown",
   "id": "ee71d7f8-4e2b-4a56-95fb-57ea54017494",
   "metadata": {},
   "source": [
    "To determine whether the found periodic orbit is stable or unstable, we can apply the isstable function."
   ]
  },
  {
   "cell_type": "code",
   "execution_count": null,
   "id": "93d8450c-11f6-4cf5-9b1f-9af5db61f55d",
   "metadata": {},
   "outputs": [],
   "source": [
    "po = isstable(ds, po)\n",
    "\"Detected periodic orbit is $(po.stable ? \"stable\" : \"unstable\").\""
   ]
  },
  {
   "cell_type": "markdown",
   "id": "671fa095-0e76-4f3e-82fa-e768a7b75fe8",
   "metadata": {},
   "source": [
    "# Acknowledgements\n",
    "\n",
    "I would like to thank my mentor George Datseris who has been incredibly supportive over the course of the program. Furthermore, I want to thank to The Julia Language organization and GSOC program team who made this opportunity possible.\n",
    "\n",
    "# Conclusion\n",
    "\n",
    "This project successfully achieved its initial goal of creating a unified interface for periodic orbit detection algorithms. While there is still work to be done in terms of integrating more libraries and adding new algorithms, the foundation is solid, and the package is ready for further development and community contributions."
   ]
  }
 ],
 "metadata": {
  "kernelspec": {
   "display_name": "Julia 1.10.5",
   "language": "julia",
   "name": "julia-1.10"
  },
  "language_info": {
   "file_extension": ".jl",
   "mimetype": "application/julia",
   "name": "julia",
   "version": "1.10.5"
  }
 },
 "nbformat": 4,
 "nbformat_minor": 5
}
